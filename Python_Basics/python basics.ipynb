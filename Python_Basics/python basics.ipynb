{
 "cells": [
  {
   "cell_type": "markdown",
   "id": "056542d2",
   "metadata": {},
   "source": [
    "## First Program"
   ]
  },
  {
   "cell_type": "code",
   "execution_count": 1,
   "id": "14708ba7",
   "metadata": {},
   "outputs": [
    {
     "name": "stdout",
     "output_type": "stream",
     "text": [
      "5\n",
      "Hello World\n",
      "I am learning python\n"
     ]
    }
   ],
   "source": [
    "print(2+3)\n",
    "print('Hello World')\n",
    "print('I am learning python')"
   ]
  },
  {
   "cell_type": "markdown",
   "id": "58010474",
   "metadata": {},
   "source": [
    "## Operators"
   ]
  },
  {
   "cell_type": "markdown",
   "id": "8fca6e45",
   "metadata": {},
   "source": [
    "- +\n",
    "- -\n",
    "- /\n",
    "- *\n",
    "- %"
   ]
  },
  {
   "cell_type": "code",
   "execution_count": 2,
   "id": "e2714840",
   "metadata": {},
   "outputs": [
    {
     "name": "stdout",
     "output_type": "stream",
     "text": [
      "0\n",
      "8\n",
      "6\n",
      "29.0\n"
     ]
    }
   ],
   "source": [
    "print(2//3)\n",
    "# for power function\n",
    "print(2**3)\n",
    "print((2*3))\n",
    "print((2*3)*3**2/2*3/3+6-4)\n",
    "# PEMDAS\n",
    "# Abriviated as (perenthesis exponent multiply divide addition substraction)\n",
    "# left to right sequence for M D & A S"
   ]
  },
  {
   "cell_type": "markdown",
   "id": "f0dc1440",
   "metadata": {},
   "source": [
    "## Strings"
   ]
  },
  {
   "cell_type": "code",
   "execution_count": 3,
   "id": "fbb51dde",
   "metadata": {},
   "outputs": [
    {
     "name": "stdout",
     "output_type": "stream",
     "text": [
      "Hello World\n",
      "I  am learning python\n",
      "Test for single quotes\n",
      "Test for double quotes\n",
      "test for triple quotes\n",
      "what's up    ?\n"
     ]
    }
   ],
   "source": [
    "print(\"Hello World\")\n",
    "print(\"I  am learning python\")\n",
    "print('Test for single quotes')\n",
    "print(\"Test for double quotes\")\n",
    "print('''test for triple quotes''')\n",
    "\n",
    "print(\"what's up    ?\")\n",
    "# strings clear"
   ]
  },
  {
   "cell_type": "markdown",
   "id": "f07d4a7d",
   "metadata": {},
   "source": [
    "## Comments"
   ]
  },
  {
   "cell_type": "code",
   "execution_count": 4,
   "id": "fd9803d7",
   "metadata": {},
   "outputs": [
    {
     "name": "stdout",
     "output_type": "stream",
     "text": [
      "how are you\n",
      "I am learning python\n",
      "18\n"
     ]
    }
   ],
   "source": [
    "print(\"how are you\") #for comment out (Ctrl + /)\n",
    "print(\"I am learning python\") #print a string\n",
    "print(9+9) # print operator function with numbers"
   ]
  },
  {
   "cell_type": "markdown",
   "id": "2f2d106c",
   "metadata": {},
   "source": [
    "## Variables"
   ]
  },
  {
   "cell_type": "code",
   "execution_count": 5,
   "id": "e064dfd2",
   "metadata": {},
   "outputs": [
    {
     "name": "stdout",
     "output_type": "stream",
     "text": [
      "5\n",
      "I am  a student\n",
      "<class 'int'>\n",
      "<class 'str'>\n",
      "Mangoes, Oranges,Carrot\n",
      "<class 'str'>\n"
     ]
    }
   ],
   "source": [
    "#variables: objects containing specific values\n",
    "x = 5 #numeric or integer variable\n",
    "print(x)\n",
    "y= \"I am  a student\" # string variable\n",
    "print(y)\n",
    "\n",
    "#types of variables\n",
    "type(x)\n",
    "print(type(x))\n",
    "print(type(y))\n",
    "#print_type_class\n",
    "\n",
    "# Rules to assign variable\n",
    "# 1- the variable should contain letters, numbers or underscores\n",
    "# 2- Do not start with number e.g. dont write (2x)\n",
    "# 3- spaces are not allowed\n",
    "# 4- Do not use keywords used in functions (breaks, mean, media, test etc.)\n",
    "# 5- short and descriptive\n",
    "# 6- case sensitivity (lowercase, uppercase, lowercase should be use)\n",
    "\n",
    "fruit_basket= \"Mangoes, Oranges,Carrot\"\n",
    "#for deleting \n",
    "##del fruit_basket\n",
    "print(fruit_basket)\n",
    "# to print te type of fruit_basket\n",
    "print(type(fruit_basket))"
   ]
  },
  {
   "cell_type": "markdown",
   "id": "cab388a0",
   "metadata": {},
   "source": [
    "## Input Variables"
   ]
  },
  {
   "cell_type": "code",
   "execution_count": 6,
   "id": "fb634c72",
   "metadata": {},
   "outputs": [
    {
     "name": "stdout",
     "output_type": "stream",
     "text": [
      "Mangoes, Oranges, Carrot\n",
      "Tell me your favoruit fruit? Orange\n",
      "Orange\n",
      "what is your name? Summera\n",
      "Hello! Summera\n",
      "what is your name? Summera\n",
      "Hello! Summera\n",
      "What is your name? Summera\n",
      "How old are you? 21\n",
      "Hello! Summera ,You are still young\n"
     ]
    }
   ],
   "source": [
    "fruit_basket=\"Mangoes, Oranges, Carrot\"\n",
    "print(fruit_basket)\n",
    "\n",
    "#input function\n",
    "fruit_basket=input(\"Tell me your favoruit fruit? \")\n",
    "print(fruit_basket)\n",
    "\n",
    "#2nd way to represent input\n",
    "name=input(\"what is your name? \")\n",
    "greetings=\"Hello!\"\n",
    "print(greetings, name)\n",
    "\n",
    "#another way of of 2nd way of input fuction\n",
    "name=input(\"what is your name? \")\n",
    "print(\"Hello!\", name)\n",
    "\n",
    "#3rd way of representing input fuction\n",
    "name= input(\"What is your name? \")\n",
    "age= input(\"How old are you? \")\n",
    "greetings= \"Hello!\"\n",
    "print(greetings, name, \",You are still young\")"
   ]
  },
  {
   "cell_type": "markdown",
   "id": "b4cdddb7",
   "metadata": {},
   "source": [
    "## Conditional Logics"
   ]
  },
  {
   "cell_type": "markdown",
   "id": "e5b84e9e",
   "metadata": {},
   "source": [
    "- logical operators (\"true pr flase\" or \"yes or no\" or \"0 or 1\")\n",
    "- equal to ==\n",
    "- not equal to !=\n",
    "- less than <\n",
    "- greater than >\n",
    "- less than and equal to <=\n",
    "- greater than and equal to >="
   ]
  },
  {
   "cell_type": "code",
   "execution_count": 7,
   "id": "e4e95fc3",
   "metadata": {},
   "outputs": [
    {
     "name": "stdout",
     "output_type": "stream",
     "text": [
      "True\n",
      "False\n",
      "How old is ahmad? 3\n",
      "<class 'int'>\n",
      "False\n"
     ]
    }
   ],
   "source": [
    "# application of equal to operator\n",
    "print(4==4)\n",
    "\n",
    "# application of logical operator\n",
    "ahmad_age = 3\n",
    "age_at_school = 5\n",
    "print(ahmad_age==age_at_school)\n",
    "\n",
    "#input functions and logical operators\n",
    "age_at_school = 5\n",
    "ahmad_age = input(\"How old is ahmad? \")\n",
    "ahmad_age = int(ahmad_age)\n",
    "print(type(ahmad_age))\n",
    "print(ahmad_age==age_at_school)"
   ]
  },
  {
   "cell_type": "markdown",
   "id": "04b00d75",
   "metadata": {},
   "source": [
    "## Type Conversion"
   ]
  },
  {
   "cell_type": "code",
   "execution_count": 8,
   "id": "35ecdbde",
   "metadata": {},
   "outputs": [
    {
     "name": "stdout",
     "output_type": "stream",
     "text": [
      "0.594059405940594 Type of x is: <class 'float'>\n",
      "What is your age? 21\n",
      "21 <class 'int'>\n",
      "21 <class 'float'>\n"
     ]
    }
   ],
   "source": [
    "x = 12          #integer\n",
    "y = 20.2        #float\n",
    "z = \"Hello\"     #string\n",
    "\n",
    "#implicit type conversion\n",
    "x=x/y\n",
    "print(x, \"Type of x is:\", type(x))\n",
    "\n",
    "#explicit type conversion\n",
    "age=input(\"What is your age? \")\n",
    "age=int(age)\n",
    "print(age, type(int(age)))\n",
    "print(age, type(float(age)))"
   ]
  },
  {
   "cell_type": "markdown",
   "id": "f5f1ff58",
   "metadata": {},
   "source": [
    "## if_else_elif"
   ]
  },
  {
   "cell_type": "code",
   "execution_count": 9,
   "id": "a5d138bc",
   "metadata": {},
   "outputs": [
    {
     "name": "stdout",
     "output_type": "stream",
     "text": [
      "ahmad is still a baby\n"
     ]
    }
   ],
   "source": [
    "required_age_at_school = 6\n",
    "ahmad_age = 2\n",
    "\n",
    "#question: can eshal go to school\n",
    "if ahmad_age==required_age_at_school:\n",
    "    print(\"Congratulation!  ahmad can join the school.\")\n",
    "elif ahmad_age>required_age_at_school:\n",
    "    print(\"ahmad should be in University\")\n",
    "elif ahmad_age <=2:\n",
    "    print(\"ahmad is still a baby\")\n",
    "else:\n",
    "    print(\"ahmad cannot go to school\")"
   ]
  },
  {
   "cell_type": "markdown",
   "id": "5d27d17d",
   "metadata": {},
   "source": [
    "## Functions"
   ]
  },
  {
   "cell_type": "code",
   "execution_count": 10,
   "id": "796445ae",
   "metadata": {},
   "outputs": [
    {
     "name": "stdout",
     "output_type": "stream",
     "text": [
      "I am Summera\n",
      "I am a student\n",
      "I am interested in python\n",
      "I am Summera\n",
      "I am student\n",
      "I am interested in python\n",
      "I am Summera\n",
      "I am Summera\n",
      "I am Summera\n",
      "I am Summera learning python with codanics\n",
      "I am Summera learning python with codanics\n",
      "I am Summera learning python with codanics\n",
      "ahmad is still a baby\n",
      "51\n"
     ]
    }
   ],
   "source": [
    "print(\"I am Summera\")\n",
    "print(\"I am a student\")\n",
    "print(\"I am interested in python\")\n",
    "\n",
    "# #defining a functions\n",
    "# from typing import Text\n",
    "\n",
    "\n",
    "def print_dikhao():\n",
    "    print(\"I am Summera\")\n",
    "    print(\"I am student\")\n",
    "    print(\"I am interested in python\")\n",
    "\n",
    "print_dikhao()\n",
    "\n",
    "#2\n",
    "def print_dikhao():\n",
    "    text=\"I am Summera\"\n",
    "    print(text)\n",
    "    print(text)\n",
    "    print(text)\n",
    "print_dikhao()\n",
    "\n",
    "#3\n",
    "def print_dikhao(text):\n",
    "    print(text)\n",
    "    print(text)\n",
    "    print(text)\n",
    "print_dikhao(\"I am Summera learning python with codanics\")\n",
    "\n",
    "#defining a function with if, elif and else statment\n",
    "def school_calculator(age, text):\n",
    "    if age==5:\n",
    "        print(\"ahmad can join the school\")\n",
    "    elif age>5:\n",
    "        print(\"ahmad should got to higher school\")\n",
    "    else:\n",
    "        print(\"ahmad is still a baby\")\n",
    "\n",
    "school_calculator(3.5, \"ahmad\")\n",
    "\n",
    "# defining a function of future\n",
    "\n",
    "def future_age(age):\n",
    "    new_age=age+20\n",
    "    return new_age\n",
    "    print(new_age)\n",
    "\n",
    "future_predicted_age=future_age(31)\n",
    "print(future_predicted_age)"
   ]
  },
  {
   "cell_type": "markdown",
   "id": "82505a4c",
   "metadata": {},
   "source": [
    "## Loops"
   ]
  },
  {
   "cell_type": "markdown",
   "id": "15ac575a",
   "metadata": {},
   "source": [
    "- while loop\n",
    "- for loop"
   ]
  },
  {
   "cell_type": "code",
   "execution_count": 13,
   "id": "077f5a9b",
   "metadata": {},
   "outputs": [
    {
     "name": "stdout",
     "output_type": "stream",
     "text": [
      "0\n",
      "1\n",
      "2\n",
      "3\n",
      "4\n",
      "5\n",
      "6\n",
      "7\n",
      "8\n",
      "9\n",
      "Mon\n",
      "Tue\n",
      "Wed\n",
      "Thu\n",
      "Sat\n",
      "Sun\n"
     ]
    }
   ],
   "source": [
    "# while loop\n",
    "x = 0\n",
    "while (x<5):\n",
    "    print(x)\n",
    "    x=x+1\n",
    "# for loop\n",
    "for x in range(5,10):\n",
    "    print(x)\n",
    "\n",
    "# array\n",
    "days = [\"Mon\", \"Tue\", \"Wed\", \"Thu\", \"Fri\", \"Sat\", \"Sun\"]\n",
    "\n",
    "for d in days:\n",
    "    # if(d==\"Fri\"):break #loop stops\n",
    "    if(d==\"Fri\"): continue #skips d\n",
    "    print(d)"
   ]
  },
  {
   "cell_type": "markdown",
   "id": "969c3c49",
   "metadata": {},
   "source": [
    "## Import Library"
   ]
  },
  {
   "cell_type": "code",
   "execution_count": 14,
   "id": "72dc2b62",
   "metadata": {},
   "outputs": [
    {
     "name": "stdout",
     "output_type": "stream",
     "text": [
      "the value of pi is  3.141592653589793\n",
      "500\n"
     ]
    }
   ],
   "source": [
    "# if you want to print the value of Pi\n",
    "\n",
    "\n",
    "import math\n",
    "print(\"the value of pi is \", math.pi)\n",
    "\n",
    "import statistics\n",
    "x=[350, 450, 550, 650]\n",
    "print(statistics.mean(x))\n",
    "\n",
    "# numpy, pandas, plotly"
   ]
  },
  {
   "cell_type": "markdown",
   "id": "d798bf03",
   "metadata": {},
   "source": [
    "## Trouble Shooting"
   ]
  },
  {
   "cell_type": "code",
   "execution_count": 15,
   "id": "83b668b9",
   "metadata": {},
   "outputs": [
    {
     "name": "stdout",
     "output_type": "stream",
     "text": [
      "Hello Summera\n"
     ]
    }
   ],
   "source": [
    "# print(we are learning python) #syntax error\n",
    "\n",
    "# print(25/0) #runtime error\n",
    "\n",
    "name= \"Summera\"\n",
    "# print(\"Hello name\")  #symentic error, we thought instead of name your name will appear.\n",
    "print(\"Hello\", name)\n",
    "#troubleshooting shoot is easy"
   ]
  },
  {
   "cell_type": "markdown",
   "id": "cae1a0aa",
   "metadata": {},
   "source": [
    "## Numpy"
   ]
  },
  {
   "cell_type": "code",
   "execution_count": 16,
   "id": "0f6a65e2",
   "metadata": {},
   "outputs": [
    {
     "data": {
      "image/png": "[encoded data removed]",
      "text/plain": [
       "<Figure size 432x288 with 1 Axes>"
      ]
     },
     "metadata": {},
     "output_type": "display_data"
    }
   ],
   "source": [
    "# Countplots\n",
    "import seaborn as sns\n",
    "import matplotlib.pyplot as plt\n",
    "sns.set_theme(style=\"ticks\", color_codes=True)\n",
    "\n",
    "titanic = sns.load_dataset(\"titanic\")\n",
    "p1= sns.countplot(x=\"sex\", hue=\"class\", data=titanic)\n",
    "p1.set_title(\"Plot for counting\")\n",
    "plt.show()"
   ]
  },
  {
   "cell_type": "markdown",
   "id": "24266ee0",
   "metadata": {},
   "source": [
    "## Data Visualization"
   ]
  },
  {
   "cell_type": "code",
   "execution_count": 17,
   "id": "ab5d5726",
   "metadata": {},
   "outputs": [
    {
     "name": "stdout",
     "output_type": "stream",
     "text": [
      "     survived  pclass     sex   age  sibsp  parch     fare embarked   class  \\\n",
      "0           0       3    male  22.0      1      0   7.2500        S   Third   \n",
      "1           1       1  female  38.0      1      0  71.2833        C   First   \n",
      "2           1       3  female  26.0      0      0   7.9250        S   Third   \n",
      "3           1       1  female  35.0      1      0  53.1000        S   First   \n",
      "4           0       3    male  35.0      0      0   8.0500        S   Third   \n",
      "..        ...     ...     ...   ...    ...    ...      ...      ...     ...   \n",
      "886         0       2    male  27.0      0      0  13.0000        S  Second   \n",
      "887         1       1  female  19.0      0      0  30.0000        S   First   \n",
      "888         0       3  female   NaN      1      2  23.4500        S   Third   \n",
      "889         1       1    male  26.0      0      0  30.0000        C   First   \n",
      "890         0       3    male  32.0      0      0   7.7500        Q   Third   \n",
      "\n",
      "       who  adult_male deck  embark_town alive  alone  \n",
      "0      man        True  NaN  Southampton    no  False  \n",
      "1    woman       False    C    Cherbourg   yes  False  \n",
      "2    woman       False  NaN  Southampton   yes   True  \n",
      "3    woman       False    C  Southampton   yes  False  \n",
      "4      man        True  NaN  Southampton    no   True  \n",
      "..     ...         ...  ...          ...   ...    ...  \n",
      "886    man        True  NaN  Southampton    no   True  \n",
      "887  woman       False    B  Southampton   yes   True  \n",
      "888  woman       False  NaN  Southampton    no  False  \n",
      "889    man        True    C    Cherbourg   yes   True  \n",
      "890    man        True  NaN   Queenstown    no   True  \n",
      "\n",
      "[891 rows x 15 columns]\n"
     ]
    },
    {
     "data": {
      "image/png": "[encoded data removed]",
      "text/plain": [
       "<Figure size 432x288 with 1 Axes>"
      ]
     },
     "metadata": {},
     "output_type": "display_data"
    },
    {
     "data": {
      "image/png": "[encoded data removed]",
      "text/plain": [
       "<Figure size 432x288 with 1 Axes>"
      ]
     },
     "metadata": {},
     "output_type": "display_data"
    },
    {
     "data": {
      "image/png": "[encoded data removed]",
      "text/plain": [
       "<Figure size 432x288 with 1 Axes>"
      ]
     },
     "metadata": {},
     "output_type": "display_data"
    }
   ],
   "source": [
    "#Import libraries\n",
    "import seaborn as sns\n",
    "import matplotlib.pyplot as Plt \n",
    "sns.set_theme(style=\"ticks\", color_codes=True)\n",
    "\n",
    "#Import data set\n",
    "boat = sns.load_dataset(\"titanic\")\n",
    "print(boat)\n",
    "\n",
    "#Plot basic graph\n",
    "#count plot with one variable\n",
    "p =sns.countplot(x= \"sex\", data=boat)\n",
    "Plt.show()\n",
    "\n",
    "#count plot with 2 variables\n",
    "p =sns.countplot(x= \"sex\", hue=\"class\", data=boat)\n",
    "Plt.show()\n",
    "\n",
    "# plot with titles\n",
    "p =sns.countplot(x= \"sex\", hue=\"class\", data=boat)\n",
    "p.set_title(\"Basic count plot\")\n",
    "Plt.show()"
   ]
  },
  {
   "cell_type": "code",
   "execution_count": null,
   "id": "a1970c55",
   "metadata": {},
   "outputs": [],
   "source": []
  }
 ],
 "metadata": {
  "kernelspec": {
   "display_name": "Python 3 (ipykernel)",
   "language": "python",
   "name": "python3"
  },
  "language_info": {
   "codemirror_mode": {
    "name": "ipython",
    "version": 3
   },
   "file_extension": ".py",
   "mimetype": "text/x-python",
   "name": "python",
   "nbconvert_exporter": "python",
   "pygments_lexer": "ipython3",
   "version": "3.9.7"
  }
 },
 "nbformat": 4,
 "nbformat_minor": 5
}
